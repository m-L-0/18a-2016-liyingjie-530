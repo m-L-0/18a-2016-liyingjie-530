{
 "cells": [
  {
   "cell_type": "code",
   "execution_count": 1,
   "metadata": {},
   "outputs": [],
   "source": [
    "import tensorflow as tf"
   ]
  },
  {
   "cell_type": "code",
   "execution_count": 6,
   "metadata": {},
   "outputs": [
    {
     "name": "stdout",
     "output_type": "stream",
     "text": [
      "5050\n"
     ]
    }
   ],
   "source": [
    "a=1\n",
    "for i in range (2,101):\n",
    "    a=tf.add(a,i)\n",
    "with tf.Session() as sess:\n",
    "    print(sess.run(a))"
   ]
  },
  {
   "cell_type": "code",
   "execution_count": 4,
   "metadata": {},
   "outputs": [
    {
     "name": "stdout",
     "output_type": "stream",
     "text": [
      "3\n",
      "3\n"
     ]
    }
   ],
   "source": [
    "op1=tf.add(1,2)\n",
    "with tf.Session() as sess:\n",
    "    print(sess.run(op1))\n",
    "with tf.Session() as ses:\n",
    "    print(ses.run(op1))"
   ]
  },
  {
   "cell_type": "code",
   "execution_count": 5,
   "metadata": {},
   "outputs": [
    {
     "name": "stdout",
     "output_type": "stream",
     "text": [
      "Session 1\n",
      "0.8172424\n",
      "Session 2\n",
      "0.3491304\n"
     ]
    }
   ],
   "source": [
    "with tf.Graph().as_default():\n",
    "    a = tf.random_uniform([])\n",
    "\n",
    "    print(\"Session 1\")\n",
    "    with tf.Session() as sess1:\n",
    "        print(sess1.run(a))  \n",
    "\n",
    "    print(\"Session 2\")\n",
    "    with tf.Session() as sess2:\n",
    "        print(sess2.run(a))"
   ]
  },
  {
   "cell_type": "code",
   "execution_count": 6,
   "metadata": {},
   "outputs": [
    {
     "name": "stdout",
     "output_type": "stream",
     "text": [
      "True\n"
     ]
    }
   ],
   "source": [
    "with tf.Graph().as_default():\n",
    "    a = tf.random_uniform([], seed=1)\n",
    "\n",
    "    with tf.Session() as sess1:\n",
    "        res1 = sess1.run(a)\n",
    "\n",
    "    with tf.Session() as sess2:\n",
    "        res2 = sess2.run(a)\n",
    "    \n",
    "    print(res1 == res2)"
   ]
  },
  {
   "cell_type": "code",
   "execution_count": 8,
   "metadata": {},
   "outputs": [
    {
     "name": "stdout",
     "output_type": "stream",
     "text": [
      "0.7787856 -0.44875857\n",
      "0.7787856 -0.44875857\n",
      "True\n",
      "True\n"
     ]
    }
   ],
   "source": [
    "with tf.Graph().as_default():\n",
    "    tf.set_random_seed(1)\n",
    "    a = tf.random_uniform([])\n",
    "    b = tf.random_normal([])\n",
    "\n",
    "    with tf.Session() as sess1:\n",
    "        res1_a, res1_b = sess1.run([a, b])\n",
    "        print(res1_a, res1_b)\n",
    "\n",
    "    with tf.Session() as sess2:\n",
    "        res2_a, res2_b = sess2.run([a, b])\n",
    "        print(res2_a, res2_b)\n",
    "    \n",
    "    print(res1_a == res2_a)\n",
    "    print(res1_b == res2_b) "
   ]
  },
  {
   "cell_type": "code",
   "execution_count": 11,
   "metadata": {},
   "outputs": [],
   "source": [
    "# 常量、变量、占位符"
   ]
  },
  {
   "cell_type": "code",
   "execution_count": null,
   "metadata": {},
   "outputs": [],
   "source": [
    "#tf.constant不能用其他常量张量初始化，没有实际意义，如果需要副本则用tf.identity。生成常量时必须初始化且不能修改\n",
    "##普通常量 使用tf.constant()\n",
    "##序列常量 tf.linspace(start,stop,num,name=None)产生一个等差数列一维向量，初始值是start、结束值是stop，个数是num。这个数列每次的增量是(stop - start)/(num-1)。\n",
    "        ##tf.range(start, limit, delta=1, dtype=None, name='range')产生一个等差数列的一维向量，初始值是start，增量是delta，结束值小于limit。start是初始值，如果不指定，默认是0；delta是增量，默认是1。limit是这个数列的最大值，但不包括在内\n",
    "##随机数常量\n",
    "##特殊常量 生成指定shape的全0张量 tf.zeros(shape, dtype=tf.float32, name=None)\n",
    "        ## 生成与输入的tensor相同shape的全0张量 tf.zeros_like(tensor, dtype=None, name=None,optimize=True)\n",
    "        ## 生成指定shape的全1张量 tf.ones(shape, dtype=tf.float32, name=None)\n",
    "        ## 生成与输入的tensor相同shap的全1张量 tf.ones_like(tensor, dtype=None, name=None, optimize=True)\n",
    "        ## 生成一个使用value填充的shape是dims的张量 tf.fill(dims, value, name=None)"
   ]
  },
  {
   "cell_type": "code",
   "execution_count": 14,
   "metadata": {},
   "outputs": [
    {
     "name": "stdout",
     "output_type": "stream",
     "text": [
      "Tensor(\"LinSpace_2:0\", shape=(5,), dtype=float32)\n"
     ]
    }
   ],
   "source": [
    "tf.linspace(10.0, 13.0, 5)"
   ]
  },
  {
   "cell_type": "code",
   "execution_count": 15,
   "metadata": {},
   "outputs": [
    {
     "ename": "TypeError",
     "evalue": "List of Tensors when single Tensor expected",
     "output_type": "error",
     "traceback": [
      "\u001b[1;31m---------------------------------------------------------------------------\u001b[0m",
      "\u001b[1;31mTypeError\u001b[0m                                 Traceback (most recent call last)",
      "\u001b[1;32m<ipython-input-15-d8817ff34c04>\u001b[0m in \u001b[0;36m<module>\u001b[1;34m()\u001b[0m\n\u001b[0;32m      1\u001b[0m \u001b[0ma\u001b[0m\u001b[1;33m=\u001b[0m\u001b[0mtf\u001b[0m\u001b[1;33m.\u001b[0m\u001b[0mconstant\u001b[0m\u001b[1;33m(\u001b[0m\u001b[1;36m1\u001b[0m\u001b[1;33m,\u001b[0m\u001b[0mname\u001b[0m\u001b[1;33m=\u001b[0m\u001b[1;34m\"a\"\u001b[0m\u001b[1;33m)\u001b[0m\u001b[1;33m\u001b[0m\u001b[0m\n\u001b[1;32m----> 2\u001b[1;33m \u001b[0mb\u001b[0m\u001b[1;33m=\u001b[0m\u001b[0mtf\u001b[0m\u001b[1;33m.\u001b[0m\u001b[0mconstant\u001b[0m\u001b[1;33m(\u001b[0m\u001b[0ma\u001b[0m\u001b[1;33m)\u001b[0m\u001b[1;33m\u001b[0m\u001b[0m\n\u001b[0m\u001b[0;32m      3\u001b[0m \u001b[0mprint\u001b[0m\u001b[1;33m(\u001b[0m\u001b[0ma\u001b[0m\u001b[1;33m,\u001b[0m\u001b[0mb\u001b[0m\u001b[1;33m)\u001b[0m\u001b[1;33m\u001b[0m\u001b[0m\n",
      "\u001b[1;32mD:\\ProgramData\\Anaconda3\\envs\\tensorflow\\lib\\site-packages\\tensorflow\\python\\framework\\constant_op.py\u001b[0m in \u001b[0;36mconstant\u001b[1;34m(value, dtype, shape, name, verify_shape)\u001b[0m\n\u001b[0;32m    205\u001b[0m   tensor_value.tensor.CopyFrom(\n\u001b[0;32m    206\u001b[0m       tensor_util.make_tensor_proto(\n\u001b[1;32m--> 207\u001b[1;33m           value, dtype=dtype, shape=shape, verify_shape=verify_shape))\n\u001b[0m\u001b[0;32m    208\u001b[0m   \u001b[0mdtype_value\u001b[0m \u001b[1;33m=\u001b[0m \u001b[0mattr_value_pb2\u001b[0m\u001b[1;33m.\u001b[0m\u001b[0mAttrValue\u001b[0m\u001b[1;33m(\u001b[0m\u001b[0mtype\u001b[0m\u001b[1;33m=\u001b[0m\u001b[0mtensor_value\u001b[0m\u001b[1;33m.\u001b[0m\u001b[0mtensor\u001b[0m\u001b[1;33m.\u001b[0m\u001b[0mdtype\u001b[0m\u001b[1;33m)\u001b[0m\u001b[1;33m\u001b[0m\u001b[0m\n\u001b[0;32m    209\u001b[0m   const_tensor = g.create_op(\n",
      "\u001b[1;32mD:\\ProgramData\\Anaconda3\\envs\\tensorflow\\lib\\site-packages\\tensorflow\\python\\framework\\tensor_util.py\u001b[0m in \u001b[0;36mmake_tensor_proto\u001b[1;34m(values, dtype, shape, verify_shape)\u001b[0m\n\u001b[0;32m    440\u001b[0m       \u001b[0mnparray\u001b[0m \u001b[1;33m=\u001b[0m \u001b[0mnp\u001b[0m\u001b[1;33m.\u001b[0m\u001b[0mempty\u001b[0m\u001b[1;33m(\u001b[0m\u001b[0mshape\u001b[0m\u001b[1;33m,\u001b[0m \u001b[0mdtype\u001b[0m\u001b[1;33m=\u001b[0m\u001b[0mnp_dt\u001b[0m\u001b[1;33m)\u001b[0m\u001b[1;33m\u001b[0m\u001b[0m\n\u001b[0;32m    441\u001b[0m     \u001b[1;32melse\u001b[0m\u001b[1;33m:\u001b[0m\u001b[1;33m\u001b[0m\u001b[0m\n\u001b[1;32m--> 442\u001b[1;33m       \u001b[0m_AssertCompatible\u001b[0m\u001b[1;33m(\u001b[0m\u001b[0mvalues\u001b[0m\u001b[1;33m,\u001b[0m \u001b[0mdtype\u001b[0m\u001b[1;33m)\u001b[0m\u001b[1;33m\u001b[0m\u001b[0m\n\u001b[0m\u001b[0;32m    443\u001b[0m       \u001b[0mnparray\u001b[0m \u001b[1;33m=\u001b[0m \u001b[0mnp\u001b[0m\u001b[1;33m.\u001b[0m\u001b[0marray\u001b[0m\u001b[1;33m(\u001b[0m\u001b[0mvalues\u001b[0m\u001b[1;33m,\u001b[0m \u001b[0mdtype\u001b[0m\u001b[1;33m=\u001b[0m\u001b[0mnp_dt\u001b[0m\u001b[1;33m)\u001b[0m\u001b[1;33m\u001b[0m\u001b[0m\n\u001b[0;32m    444\u001b[0m       \u001b[1;31m# check to them.\u001b[0m\u001b[1;33m\u001b[0m\u001b[1;33m\u001b[0m\u001b[0m\n",
      "\u001b[1;32mD:\\ProgramData\\Anaconda3\\envs\\tensorflow\\lib\\site-packages\\tensorflow\\python\\framework\\tensor_util.py\u001b[0m in \u001b[0;36m_AssertCompatible\u001b[1;34m(values, dtype)\u001b[0m\n\u001b[0;32m    348\u001b[0m   \u001b[1;32mif\u001b[0m \u001b[0mmismatch\u001b[0m \u001b[1;32mis\u001b[0m \u001b[1;32mnot\u001b[0m \u001b[1;32mNone\u001b[0m\u001b[1;33m:\u001b[0m\u001b[1;33m\u001b[0m\u001b[0m\n\u001b[0;32m    349\u001b[0m     \u001b[1;32mif\u001b[0m \u001b[0mdtype\u001b[0m \u001b[1;32mis\u001b[0m \u001b[1;32mNone\u001b[0m\u001b[1;33m:\u001b[0m\u001b[1;33m\u001b[0m\u001b[0m\n\u001b[1;32m--> 350\u001b[1;33m       \u001b[1;32mraise\u001b[0m \u001b[0mTypeError\u001b[0m\u001b[1;33m(\u001b[0m\u001b[1;34m\"List of Tensors when single Tensor expected\"\u001b[0m\u001b[1;33m)\u001b[0m\u001b[1;33m\u001b[0m\u001b[0m\n\u001b[0m\u001b[0;32m    351\u001b[0m     \u001b[1;32melse\u001b[0m\u001b[1;33m:\u001b[0m\u001b[1;33m\u001b[0m\u001b[0m\n\u001b[0;32m    352\u001b[0m       raise TypeError(\"Expected %s, got %s of type '%s' instead.\" %\n",
      "\u001b[1;31mTypeError\u001b[0m: List of Tensors when single Tensor expected"
     ]
    }
   ],
   "source": [
    "#变量可以由其他变量初始化，变量使用前必须初始化"
   ]
  },
  {
   "cell_type": "code",
   "execution_count": null,
   "metadata": {},
   "outputs": [],
   "source": [
    "#numpy、tensorflow必考\n",
    "    #概述、图和会话、控制依赖、数组的索引和切片、变量和占位符、模型存取（变量的存取、数据集的存取、单次迭代器）\n",
    "    #shape和阶（数括号）、获取shape的方法\n",
    "    #range随机数常量，不同参数个数的不同\n",
    "    #Variable和getVariable之间的区别，最少参数\n",
    "    #占位符最少需要dtype"
   ]
  },
  {
   "cell_type": "code",
   "execution_count": null,
   "metadata": {},
   "outputs": [],
   "source": [
    "#图的边与节点\n",
    "\n",
    "1. 1.一阶 0；\n",
    "   2. 不是张量\n",
    "   3. 2阶张量，形状3，1\n",
    "   4. 2阶张量，形状2，3\n",
    "   5. 3阶张量，形状1,3，1\n",
    "   6. 3阶张量，形状1,2,2"
   ]
  },
  {
   "cell_type": "code",
   "execution_count": 7,
   "metadata": {},
   "outputs": [
    {
     "data": {
      "text/plain": [
       "TensorShape([Dimension(2), Dimension(3)])"
      ]
     },
     "execution_count": 7,
     "metadata": {},
     "output_type": "execute_result"
    }
   ],
   "source": [
    "def zhangliang(a):\n",
    "    b=tf.ones(a)\n",
    "    return b.shape\n",
    "zhangliang([2,3])"
   ]
  },
  {
   "cell_type": "code",
   "execution_count": null,
   "metadata": {},
   "outputs": [],
   "source": [
    "`tf.constant([1, 2, 3], dtype=tf.float64)`合法\n",
    "`tf.constant([1, 2, 3], dtype=tf.complex64)`合法 \n",
    "`tf.constant([1, 2, 3], dtype=tf.string)`合法\n",
    "`tf.consant([1, '2', '3'])` //数据类型不一样\n",
    "`tf.constant([1, [2, 3]])` //不合法"
   ]
  },
  {
   "cell_type": "code",
   "execution_count": null,
   "metadata": {},
   "outputs": [],
   "source": [
    "[784]\n",
    "tensor 't'是一阶张量has shape [784]\n",
    "new_t=tf.reshape(t,[28,28])\n",
    "\n",
    "5-10行,第27列\n",
    "tf.slice(new_t,[4,26],[6,26])\n"
   ]
  },
  {
   "cell_type": "code",
   "execution_count": null,
   "metadata": {},
   "outputs": [],
   "source": [
    "tf.gather(img,[2])\n",
    "tf.slice(img,[1,28,28,3])\n",
    "#索引直接用所需行数，切片需要用完整向量切出\n",
    "tf.gather(img,[1,3,5,7])\n",
    "tf.slice(img,[5,6,6,3],[6,20,20,3])\n",
    "tf.slice(img,[0,28,28,0],[9,28,28,0])\n",
    "tf.slice(img,[0,28,28,1],[9,28,28,1])\n",
    "tf.slice(img,[0,28,28,2],[9,28,28,2])\n",
    "4,   10 28 28 3"
   ]
  },
  {
   "cell_type": "markdown",
   "metadata": {},
   "source": [
    "# 名字与作用域"
   ]
  },
  {
   "cell_type": "markdown",
   "metadata": {},
   "source": [
    "Tensorflow的作用域：variable_scope和name_scope"
   ]
  },
  {
   "cell_type": "markdown",
   "metadata": {},
   "source": [
    "Tensor和Operation均有name属性,而我们只能给Operation命名，Tensor由Op命名。\n",
    "如：a=tf.constant([1,2,3],name='const')其中Op名字是const,而a的名字是const:0\n",
    "命名规则：数字、字母、下划线组成，不能以下划线开头，且不分大小写\n",
    "\n",
    "const:0\n",
    "op_1:0\n",
    "op_1_1:0\n",
    "op_1_2:0\n",
    "123:0"
   ]
  },
  {
   "cell_type": "code",
   "execution_count": 3,
   "metadata": {},
   "outputs": [
    {
     "name": "stdout",
     "output_type": "stream",
     "text": [
      "op_1_2:0\n"
     ]
    }
   ],
   "source": [
    "tf.add([1, 2], [3, 4], name='op_1')\n",
    "tf.add([2, 3], [4, 5], name='op_1')\n",
    "a=tf.mod([1, 3], [2, 4], name='op_1')\n",
    "print(a.name)"
   ]
  },
  {
   "cell_type": "code",
   "execution_count": 10,
   "metadata": {},
   "outputs": [
    {
     "name": "stdout",
     "output_type": "stream",
     "text": [
      "80\n",
      "None\n"
     ]
    }
   ],
   "source": [
    "g1 = tf.Graph()\n",
    "with g1.as_default():\n",
    "    tf.add(3, 5, name='add')\n",
    "    tf.multiply(g1.get_tensor_by_name('add:0'), 10, name='mul')\n",
    "    \n",
    "with tf.Session(graph=g1) as sess:\n",
    "    print(sess.run(g1.get_tensor_by_name('mul:0')))\n",
    "    print(sess.run(g1.get_operation_by_name('mul')))"
   ]
  },
  {
   "cell_type": "code",
   "execution_count": 2,
   "metadata": {},
   "outputs": [],
   "source": [
    "#`name_scope`可以给所有在其作用域中创建的`Op`的`name`添加前缀。 ×\n",
    "# 在多级`name_scope`中的不同层级作用域下创建的`Op`（除去`tf.get_variable`以外），不存在`name`重名。  √\n",
    "#`name_scope`可以通过划分操作范围来组织图结构，并能服务于得可视化  √"
   ]
  },
  {
   "cell_type": "markdown",
   "metadata": {},
   "source": [
    "# 流程控制"
   ]
  },
  {
   "cell_type": "markdown",
   "metadata": {},
   "source": [
    "TensorFlow流程控制的不同模式：\n",
    "分图模式下的流程控制、命令模式下的流程控制、AutoGraph模式下的流程控制"
   ]
  },
  {
   "cell_type": "code",
   "execution_count": 8,
   "metadata": {},
   "outputs": [
    {
     "name": "stdout",
     "output_type": "stream",
     "text": [
      "[2 3]\n"
     ]
    }
   ],
   "source": [
    "with tf.Session() as sess:\n",
    "    res = tf.where(tf.constant([True, False]), \n",
    "         tf.constant([1, 1]), \n",
    "         tf.constant([2, 2]))\n",
    "    print(sess.run(res))\n",
    "#tf.where中"
   ]
  },
  {
   "cell_type": "code",
   "execution_count": null,
   "metadata": {},
   "outputs": [],
   "source": [
    "def smooth_l1(x):\n",
    "    with tf.Session() as sess:\n",
    "        if tf.less(x,1) && tf.less(x>-1):\n",
    "            smooth=0.5*x**2\n",
    "        else:\n",
    "            smooth=tf.asbs(x)-0.5\n",
    "    return smooth\n",
    "\n",
    "    "
   ]
  },
  {
   "cell_type": "markdown",
   "metadata": {},
   "source": [
    "尝试将上述代码中的常量i换做变量，使用i记录变量的值，以验证tf.while_loop的第三个参数即cond、body函数的输入参数接受变量输入是无法改变变量的值的"
   ]
  },
  {
   "cell_type": "code",
   "execution_count": 24,
   "metadata": {},
   "outputs": [
    {
     "name": "stdout",
     "output_type": "stream",
     "text": [
      "[5, 6]\n"
     ]
    }
   ],
   "source": [
    "import tensorflow as tf \n",
    "i = tf.Variable(1) \n",
    "b = tf.constant(2) \n",
    "\n",
    "def cond(i, b): \n",
    "    return i<5 \n",
    " \n",
    "def body(i, b): \n",
    "    i += 1 \n",
    "    b += 1 \n",
    "    return i, b\n",
    " \n",
    "i ,b = tf.while_loop(cond, body, [i,b]) \n",
    " \n",
    "with tf.Session() as sess: \n",
    "    sess.run(tf.global_variables_initializer()) \n",
    "    print(sess.run([i, b]))\n",
    "#但是变量i改变了啊。。。"
   ]
  },
  {
   "cell_type": "markdown",
   "metadata": {},
   "source": [
    "# 图存取"
   ]
  },
  {
   "cell_type": "markdown",
   "metadata": {},
   "source": [
    "图是由一系列Op与Tensor构成的，在Tensorflow中这就是“图定义”GraphDef。图的存取本质上就是GraphDef的存取"
   ]
  },
  {
   "cell_type": "markdown",
   "metadata": {},
   "source": [
    "### 图的保存"
   ]
  },
  {
   "cell_type": "markdown",
   "metadata": {},
   "source": [
    "一、获取图定义\n",
    "二、保存图的定义"
   ]
  },
  {
   "cell_type": "code",
   "execution_count": null,
   "metadata": {},
   "outputs": [],
   "source": [
    "with tf.Graph().as_default() as graph:\n",
    "    v=tf.constant([1,2])\n",
    "    print(graph.as_graph_def())"
   ]
  },
  {
   "cell_type": "code",
   "execution_count": null,
   "metadata": {},
   "outputs": [],
   "source": [
    "#Tensorflow提供的tf.train.write_graph进行保存\n",
    "tf.train.wrte_graph(\n",
    "    graph_or_graph_def,#图或图定义\n",
    "    logdir,#存储的文件路径\n",
    "    name,#存储的文件名\n",
    "    as_text=True)#是否作为文本存储"
   ]
  },
  {
   "cell_type": "markdown",
   "metadata": {},
   "source": [
    "### 图的读取"
   ]
  },
  {
   "cell_type": "code",
   "execution_count": null,
   "metadata": {},
   "outputs": [],
   "source": [
    "with tf.Graph().as_default() as new_graph:\n",
    "    with tf.gfile.FastGFile('test_model.pb','rb') as f:\n",
    "        graph_def=tf.GraphDef()\n",
    "        graph_def.ParseFromString(f.read())\n",
    "        tf.import_graph_def(graph_def)"
   ]
  },
  {
   "cell_type": "markdown",
   "metadata": {},
   "source": [
    "## 变量存取"
   ]
  },
  {
   "cell_type": "markdown",
   "metadata": {},
   "source": [
    "变量存储是把模型中定义的变量存储起来，不包括图结构。变量存储可以脱离图存储而存在。变量的存储与读取，在Tensorflow中叫做检查点存取，变量保存的文件是检查点文件，扩展名一般为.ckpt。使用tf.train.Saver()类来操作检查点"
   ]
  },
  {
   "cell_type": "markdown",
   "metadata": {},
   "source": [
    "### 变量存储"
   ]
  },
  {
   "cell_type": "markdown",
   "metadata": {},
   "source": [
    "变量在图中定义，但实际上是会话存储了变量，即只有我们在运行图的时候，变量才会真正存在，且变量在图的运行过程中，值会发生变化，所以我们需要在会话中保存变量"
   ]
  },
  {
   "cell_type": "code",
   "execution_count": null,
   "metadata": {},
   "outputs": [],
   "source": [
    "tf.train.Saver.save()#保存变量\n",
    "tf.train.Saver()#初始化，其在图中的位置很重要，在其之后的变量不会被存储在当前的Save对象控制"
   ]
  },
  {
   "cell_type": "code",
   "execution_count": null,
   "metadata": {},
   "outputs": [],
   "source": [
    "#没有小作业了"
   ]
  }
 ],
 "metadata": {
  "kernelspec": {
   "display_name": "Python 3",
   "language": "python",
   "name": "python3"
  },
  "language_info": {
   "codemirror_mode": {
    "name": "ipython",
    "version": 3
   },
   "file_extension": ".py",
   "mimetype": "text/x-python",
   "name": "python",
   "nbconvert_exporter": "python",
   "pygments_lexer": "ipython3",
   "version": "3.5.6"
  }
 },
 "nbformat": 4,
 "nbformat_minor": 2
}
